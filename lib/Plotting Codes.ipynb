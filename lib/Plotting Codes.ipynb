{
 "cells": [
  {
   "cell_type": "code",
   "execution_count": null,
   "id": "754a651c",
   "metadata": {},
   "outputs": [],
   "source": []
  },
  {
   "cell_type": "code",
   "execution_count": null,
   "id": "bd1cf447",
   "metadata": {},
   "outputs": [],
   "source": [
    "# Plotting of number of sentences per title and author\n",
    "fig = plt.figure(figsize=(20, 6))\n",
    "plt.subplot(1, 3, 1)\n",
    "sns.countplot(data_fem['title'])\n",
    "plt.title('Number of Sentence per title')\n",
    "plt.xticks(rotation = 90)\n",
    "    \n",
    "    \n",
    "plt.subplot(1, 3, 3)\n",
    "sns.countplot(data_fem['author'])\n",
    "plt.title('Number of Sentences per author')\n",
    "plt.xticks(rotation = 90)\n",
    "    \n",
    "plt.show()    \n",
    "    "
   ]
  },
  {
   "cell_type": "code",
   "execution_count": null,
   "id": "cccdbf74",
   "metadata": {},
   "outputs": [],
   "source": [
    "# Number of sentences for each author\n",
    "sns.countplot(x ='author', data = data)\n",
    "plt.xticks(rotation = 90)\n",
    "plt.title(\"Number of sentences for each author\")\n",
    "plt.show()"
   ]
  },
  {
   "cell_type": "code",
   "execution_count": null,
   "id": "5d75da5d",
   "metadata": {},
   "outputs": [],
   "source": [
    "# Plot of date vs titles\n",
    "plt.bar(data_fem_plot_pub_title['title'],data_fem_plot_pub_title['original_publication_date'])\n",
    "plt.xticks(rotation = 90)\n",
    "plt.ylabel('date')\n",
    "plt.title('Titles with dates')"
   ]
  },
  {
   "cell_type": "code",
   "execution_count": null,
   "id": "b4a3394c",
   "metadata": {},
   "outputs": [],
   "source": [
    "# plot of author vs title\n",
    "plt.bar(data_fem_plot_pub_title['author'],data_fem_plot_pub_title['original_publication_date'])\n",
    "plt.xticks(rotation = 90)\n",
    "plt.ylabel('date')\n",
    "plt.title('Author with dates')"
   ]
  },
  {
   "cell_type": "code",
   "execution_count": null,
   "id": "8896d66f",
   "metadata": {},
   "outputs": [],
   "source": [
    "# Creating a wordcloud\n",
    "word_cloud3 = WordCloud(width=1000,height=500,background_color = 'white').generate_from_frequencies(dict_msg_lemmatized3)\n",
    "# Display the generated Word Cloud\n",
    "plt.figure(figsize=(15,8))\n",
    "plt.imshow(word_cloud3)\n",
    "plt.axis(\"off\")"
   ]
  }
 ],
 "metadata": {
  "kernelspec": {
   "display_name": "Python 3 (ipykernel)",
   "language": "python",
   "name": "python3"
  },
  "language_info": {
   "codemirror_mode": {
    "name": "ipython",
    "version": 3
   },
   "file_extension": ".py",
   "mimetype": "text/x-python",
   "name": "python",
   "nbconvert_exporter": "python",
   "pygments_lexer": "ipython3",
   "version": "3.9.12"
  }
 },
 "nbformat": 4,
 "nbformat_minor": 5
}
